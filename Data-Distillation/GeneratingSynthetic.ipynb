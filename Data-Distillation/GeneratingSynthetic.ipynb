{
  "cells": [
    {
      "cell_type": "code",
      "source": [
        "!nvidia-smi"
      ],
      "metadata": {
        "colab": {
          "base_uri": "https://localhost:8080/"
        },
        "id": "D3IZYjPLWjSk",
        "outputId": "8ad00005-cd4e-415a-e328-5e93408c6125"
      },
      "execution_count": null,
      "outputs": [
        {
          "output_type": "stream",
          "name": "stdout",
          "text": [
            "Tue Jan 17 03:22:09 2023       \n",
            "+-----------------------------------------------------------------------------+\n",
            "| NVIDIA-SMI 460.32.03    Driver Version: 460.32.03    CUDA Version: 11.2     |\n",
            "|-------------------------------+----------------------+----------------------+\n",
            "| GPU  Name        Persistence-M| Bus-Id        Disp.A | Volatile Uncorr. ECC |\n",
            "| Fan  Temp  Perf  Pwr:Usage/Cap|         Memory-Usage | GPU-Util  Compute M. |\n",
            "|                               |                      |               MIG M. |\n",
            "|===============================+======================+======================|\n",
            "|   0  Tesla T4            Off  | 00000000:00:04.0 Off |                    0 |\n",
            "| N/A   43C    P8     9W /  70W |      0MiB / 15109MiB |      0%      Default |\n",
            "|                               |                      |                  N/A |\n",
            "+-------------------------------+----------------------+----------------------+\n",
            "                                                                               \n",
            "+-----------------------------------------------------------------------------+\n",
            "| Processes:                                                                  |\n",
            "|  GPU   GI   CI        PID   Type   Process name                  GPU Memory |\n",
            "|        ID   ID                                                   Usage      |\n",
            "|=============================================================================|\n",
            "|  No running processes found                                                 |\n",
            "+-----------------------------------------------------------------------------+\n"
          ]
        }
      ]
    },
    {
      "cell_type": "code",
      "execution_count": null,
      "metadata": {
        "colab": {
          "base_uri": "https://localhost:8080/"
        },
        "id": "wEm8seTgSICm",
        "outputId": "df4782e9-abb9-4787-8f08-99bcd1a9506a"
      },
      "outputs": [
        {
          "output_type": "stream",
          "name": "stdout",
          "text": [
            "Mounted at /content/drive\n"
          ]
        }
      ],
      "source": [
        "from google.colab import drive\n",
        "drive.mount('/content/drive')"
      ]
    },
    {
      "cell_type": "code",
      "execution_count": null,
      "metadata": {
        "colab": {
          "base_uri": "https://localhost:8080/"
        },
        "id": "bJfoSD1dTVu8",
        "outputId": "c07f09bd-8c79-4b4b-d60a-6190f39cdcb0"
      },
      "outputs": [
        {
          "output_type": "stream",
          "name": "stdout",
          "text": [
            "/content/drive/MyDrive/ECE1512/ProjectB/All_Code\n"
          ]
        }
      ],
      "source": [
        "%cd /content/drive/MyDrive/ECE1512/ProjectB/All_Code"
      ]
    },
    {
      "cell_type": "code",
      "execution_count": null,
      "metadata": {
        "colab": {
          "base_uri": "https://localhost:8080/"
        },
        "id": "D7yR03TLTbB7",
        "outputId": "b085442e-aacb-485a-f0a2-729ccb7374ce"
      },
      "outputs": [
        {
          "output_type": "stream",
          "name": "stdout",
          "text": [
            "/content/drive/MyDrive/ECE1512/ProjectB/All_Code\n"
          ]
        }
      ],
      "source": [
        "!pwd"
      ]
    },
    {
      "cell_type": "code",
      "execution_count": null,
      "metadata": {
        "colab": {
          "base_uri": "https://localhost:8080/"
        },
        "id": "oFKz_JegTdGi",
        "outputId": "2d5a9302-761c-49f3-9c1c-08044547c0cf"
      },
      "outputs": [
        {
          "output_type": "stream",
          "name": "stdout",
          "text": [
            "eval_it_pool:  [0, 500, 1000, 1500, 2000, 2500, 3000]\n",
            "Downloading http://fashion-mnist.s3-website.eu-central-1.amazonaws.com/train-images-idx3-ubyte.gz\n",
            "Downloading http://fashion-mnist.s3-website.eu-central-1.amazonaws.com/train-images-idx3-ubyte.gz to data/FashionMNIST/raw/train-images-idx3-ubyte.gz\n",
            "100% 26421880/26421880 [00:03<00:00, 8568412.52it/s] \n",
            "Extracting data/FashionMNIST/raw/train-images-idx3-ubyte.gz to data/FashionMNIST/raw\n",
            "\n",
            "Downloading http://fashion-mnist.s3-website.eu-central-1.amazonaws.com/train-labels-idx1-ubyte.gz\n",
            "Downloading http://fashion-mnist.s3-website.eu-central-1.amazonaws.com/train-labels-idx1-ubyte.gz to data/FashionMNIST/raw/train-labels-idx1-ubyte.gz\n",
            "100% 29515/29515 [00:00<00:00, 147637.97it/s]\n",
            "Extracting data/FashionMNIST/raw/train-labels-idx1-ubyte.gz to data/FashionMNIST/raw\n",
            "\n",
            "Downloading http://fashion-mnist.s3-website.eu-central-1.amazonaws.com/t10k-images-idx3-ubyte.gz\n",
            "Downloading http://fashion-mnist.s3-website.eu-central-1.amazonaws.com/t10k-images-idx3-ubyte.gz to data/FashionMNIST/raw/t10k-images-idx3-ubyte.gz\n",
            "100% 4422102/4422102 [00:01<00:00, 2720489.26it/s]\n",
            "Extracting data/FashionMNIST/raw/t10k-images-idx3-ubyte.gz to data/FashionMNIST/raw\n",
            "\n",
            "Downloading http://fashion-mnist.s3-website.eu-central-1.amazonaws.com/t10k-labels-idx1-ubyte.gz\n",
            "Downloading http://fashion-mnist.s3-website.eu-central-1.amazonaws.com/t10k-labels-idx1-ubyte.gz to data/FashionMNIST/raw/t10k-labels-idx1-ubyte.gz\n",
            "100% 5148/5148 [00:00<00:00, 35748802.97it/s]\n",
            "Extracting data/FashionMNIST/raw/t10k-labels-idx1-ubyte.gz to data/FashionMNIST/raw\n",
            "\n",
            "Experiment start!!!!!!!!!!!!!!!!!!!!!!\n",
            "Hyper-parameters: \n",
            " {'method': 'DC', 'dataset': 'FashionMNIST', 'model': 'AlexNet', 'ipc': 10, 'eval_mode': 'S', 'num_exp': 1, 'num_eval': 5, 'epoch_eval_train': 100, 'Iteration': 3000, 'lr_img': 0.1, 'lr_net': 0.01, 'batch_real': 256, 'batch_train': 256, 'init': 'real', 'dsa_strategy': 'None', 'data_path': 'data', 'save_path': 'result', 'dis_metric': 'ours', 'outer_loop': 10, 'inner_loop': 100, 'device': 'cuda', 'dsa_param': <utils.ParamDiffAug object at 0x7fe29e68e250>, 'dsa': False}\n",
            "Evaluation model pool:  ['AlexNet']\n",
            "class c = 0: 6000 real images\n",
            "class c = 1: 6000 real images\n",
            "class c = 2: 6000 real images\n",
            "class c = 3: 6000 real images\n",
            "class c = 4: 6000 real images\n",
            "class c = 5: 6000 real images\n",
            "class c = 6: 6000 real images\n",
            "class c = 7: 6000 real images\n",
            "class c = 8: 6000 real images\n",
            "class c = 9: 6000 real images\n",
            "real images channel 0, mean = -0.0002, std = 1.0001\n",
            "main.py:109: DeprecationWarning: an integer is required (got type numpy.float64).  Implicit conversion to integers using __int__ is deprecated, and may be removed in a future version of Python.\n",
            "  label_syn = torch.tensor([np.ones(args.ipc)*i for i in range(num_classes)], dtype=torch.long, requires_grad=False, device=args.device).view(-1) # [0,0,0, 1,1,1, ..., 9,9,9]\n",
            "main.py:109: UserWarning: Creating a tensor from a list of numpy.ndarrays is extremely slow. Please consider converting the list to a single numpy.ndarray with numpy.array() before converting to a tensor. (Triggered internally at ../torch/csrc/utils/tensor_new.cpp:230.)\n",
            "  label_syn = torch.tensor([np.ones(args.ipc)*i for i in range(num_classes)], dtype=torch.long, requires_grad=False, device=args.device).view(-1) # [0,0,0, 1,1,1, ..., 9,9,9]\n",
            "initialize synthetic data from random real images\n",
            "[2023-01-17 03:23:45] The synthetic samples are generated and training will begin!!!!!!!!!\n",
            "[2023-01-17 03:24:18] iter = 0000, loss = 164.3825\n",
            "Saving weights as result/res_DC_FashionMNIST_AlexNet_10ipc_model.pt\n",
            "[2023-01-17 04:08:41] iter = 0100, loss = 80.3866\n",
            "[2023-01-17 04:53:04] iter = 0200, loss = 78.4160\n",
            "[2023-01-17 05:37:20] iter = 0300, loss = 75.2110\n",
            "[2023-01-17 06:21:25] iter = 0400, loss = 75.2587\n",
            "[2023-01-17 07:05:24] iter = 0500, loss = 75.5620\n",
            "[2023-01-17 07:49:39] iter = 0600, loss = 75.4740\n",
            "[2023-01-17 08:33:45] iter = 0700, loss = 76.3762\n",
            "[2023-01-17 09:17:52] iter = 0800, loss = 71.1609\n",
            "[2023-01-17 10:01:51] iter = 0900, loss = 78.0282\n",
            "[2023-01-17 10:46:00] iter = 1000, loss = 76.6453\n",
            "Saving weights as result/res_DC_FashionMNIST_AlexNet_10ipc_model.pt\n",
            "[2023-01-17 11:30:07] iter = 1100, loss = 74.4480\n",
            "[2023-01-17 12:14:14] iter = 1200, loss = 75.0150\n",
            "[2023-01-17 12:58:20] iter = 1300, loss = 77.8836\n",
            "[2023-01-17 13:43:20] iter = 1400, loss = 69.8726\n",
            "[2023-01-17 14:27:55] iter = 1500, loss = 70.9963\n",
            "[2023-01-17 15:11:48] iter = 1600, loss = 70.5956\n",
            "Traceback (most recent call last):\n",
            "  File \"main.py\", line 261, in <module>\n",
            "    main()\n",
            "  File \"main.py\", line 237, in main\n",
            "    epoch('train', trainloader, net, optimizer_net, criterion, args, aug = True if args.dsa else False)\n",
            "  File \"/content/drive/MyDrive/ECE1512/ProjectB/All_Code/utils.py\", line 387, in epoch\n",
            "    acc = np.sum(np.equal(np.argmax(output.cpu().data.numpy(), axis=-1), lab.cpu().data.numpy()))\n",
            "KeyboardInterrupt\n",
            "^C\n"
          ]
        }
      ],
      "source": [
        "!python main.py \\\n",
        "    --dataset 'FashionMNIST' \\\n",
        "    --Iteration 3000 \\\n",
        "    --init 'real'"
      ]
    },
    {
      "cell_type": "code",
      "source": [
        "!python main.py \\\n",
        "    --dataset 'MNIST' \\\n",
        "    --Iteration 10000 "
      ],
      "metadata": {
        "id": "EU-qXEDtzRQN"
      },
      "execution_count": null,
      "outputs": []
    },
    {
      "cell_type": "markdown",
      "source": [
        "#MHIST Dataset"
      ],
      "metadata": {
        "id": "vh265fW4jv2E"
      }
    },
    {
      "cell_type": "code",
      "source": [
        "!python main.py \\\n",
        "    --dataset 'MHIST' \\\n",
        "    --Iteration 1000 "
      ],
      "metadata": {
        "colab": {
          "base_uri": "https://localhost:8080/"
        },
        "id": "f_vpkIEzsi4C",
        "outputId": "90a221ea-e26f-444a-8468-8af611cb21ee"
      },
      "execution_count": null,
      "outputs": [
        {
          "output_type": "stream",
          "name": "stdout",
          "text": [
            "eval_it_pool:  [0, 500, 1000]\n",
            "tcmalloc: large alloc 2619187200 bytes == 0x41692000 @  0x7f1901cb51e7 0x7f18ff5bf14e 0x7f18ff617745 0x7f18ff617878 0x7f18ff6d7604 0x7f18ff6da8ec 0x7f18ff865bd4 0x4eb089 0x5d86fe 0x7f18ff6e0e6b 0x606ad6 0x55ff12 0x5d7c18 0x49ec69 0x55e858 0x5d7cf1 0x49ec69 0x55e571 0x55ef23 0x642140 0x6421be 0x644688 0x644c2c 0x6776be 0x677889 0x7f19018b2c87 0x5e0f1a\n",
            "/content/drive/MyDrive/ECE1512/ProjectB/All_Code/utils.py:153: UserWarning: To copy construct from a tensor, it is recommended to use sourceTensor.clone().detach() or sourceTensor.clone().detach().requires_grad_(True), rather than torch.tensor(sourceTensor).\n",
            "  mean = torch.tensor(mhist_train_img, dtype=torch.float32)\n",
            "tcmalloc: large alloc 1309597696 bytes == 0x123a72000 @  0x7f1901c97b6b 0x7f1901cb7379 0x7f187b3ae935 0x7f187b38c093 0x7f18a84604ca 0x7f18a8458603 0x7f18a845865a 0x7f18a84586bf 0x7f18a8afb469 0x7f18a954a7b0 0x7f18a954a810 0x7f18a920ab33 0x7f18a951d31e 0x7f18a924ddeb 0x7f18a8784ec7 0x7f18a8aec13b 0x7f18a96d7b3b 0x7f18a8f25425 0x7f18a951d093 0x7f18a8f25425 0x7f18aa8dda0b 0x7f18aa8dde7e 0x7f18a8fa5989 0x7f18a8ae4517 0x7f18a9895f79 0x7f18a910ce8a 0x7f18d14ce0dd 0x7f18d14d3606 0x7f18d110425f 0x5d746e 0x5d813c\n",
            "/content/drive/MyDrive/ECE1512/ProjectB/All_Code/utils.py:154: UserWarning: To copy construct from a tensor, it is recommended to use sourceTensor.clone().detach() or sourceTensor.clone().detach().requires_grad_(True), rather than torch.tensor(sourceTensor).\n",
            "  std = torch.tensor(mhist_train_label_le)\n",
            "class c = 0: 1545 real images\n",
            "class c = 1: 630 real images\n",
            "real images channel 0, mean = 0.7502, std = 0.2134\n",
            "real images channel 1, mean = 0.7044, std = 0.2104\n",
            "real images channel 2, mean = 0.7071, std = 0.2113\n",
            "main.py:109: DeprecationWarning: an integer is required (got type numpy.float64).  Implicit conversion to integers using __int__ is deprecated, and may be removed in a future version of Python.\n",
            "  label_syn = torch.tensor([np.ones(args.ipc)*i for i in range(num_classes)], dtype=torch.long, requires_grad=False, device=args.device).view(-1) # [0,0,0, 1,1,1, ..., 9,9,9]\n",
            "main.py:109: UserWarning: Creating a tensor from a list of numpy.ndarrays is extremely slow. Please consider converting the list to a single numpy.ndarray with numpy.array() before converting to a tensor. (Triggered internally at ../torch/csrc/utils/tensor_new.cpp:230.)\n",
            "  label_syn = torch.tensor([np.ones(args.ipc)*i for i in range(num_classes)], dtype=torch.long, requires_grad=False, device=args.device).view(-1) # [0,0,0, 1,1,1, ..., 9,9,9]\n",
            "initialize synthetic data from random noise\n",
            "[2022-12-07 23:01:37] The synthetic samples are generated and training will begin!!!!!!!!!\n",
            "Traceback (most recent call last):\n",
            "  File \"main.py\", line 261, in <module>\n",
            "    main()\n",
            "  File \"main.py\", line 212, in main\n",
            "    output_real = net(img_real)\n",
            "  File \"/usr/local/lib/python3.8/dist-packages/torch/nn/modules/module.py\", line 1190, in _call_impl\n",
            "    return forward_call(*input, **kwargs)\n",
            "  File \"/content/drive/MyDrive/ECE1512/ProjectB/All_Code/networks.py\", line 162, in forward\n",
            "    x = self.features(x)\n",
            "  File \"/usr/local/lib/python3.8/dist-packages/torch/nn/modules/module.py\", line 1190, in _call_impl\n",
            "    return forward_call(*input, **kwargs)\n",
            "  File \"/usr/local/lib/python3.8/dist-packages/torch/nn/modules/container.py\", line 204, in forward\n",
            "    input = module(input)\n",
            "  File \"/usr/local/lib/python3.8/dist-packages/torch/nn/modules/module.py\", line 1190, in _call_impl\n",
            "    return forward_call(*input, **kwargs)\n",
            "  File \"/usr/local/lib/python3.8/dist-packages/torch/nn/modules/conv.py\", line 463, in forward\n",
            "    return self._conv_forward(input, self.weight, self.bias)\n",
            "  File \"/usr/local/lib/python3.8/dist-packages/torch/nn/modules/conv.py\", line 459, in _conv_forward\n",
            "    return F.conv2d(input, weight, bias, self.stride,\n",
            "torch.cuda.OutOfMemoryError: CUDA out of memory. Tried to allocate 2.30 GiB (GPU 0; 14.76 GiB total capacity; 12.10 GiB already allocated; 1.61 GiB free; 12.12 GiB reserved in total by PyTorch) If reserved memory is >> allocated memory try setting max_split_size_mb to avoid fragmentation.  See documentation for Memory Management and PYTORCH_CUDA_ALLOC_CONF\n"
          ]
        }
      ]
    }
  ],
  "metadata": {
    "colab": {
      "provenance": [],
      "machine_shape": "hm"
    },
    "kernelspec": {
      "display_name": "Python 3",
      "name": "python3"
    },
    "language_info": {
      "name": "python"
    },
    "accelerator": "GPU",
    "gpuClass": "premium"
  },
  "nbformat": 4,
  "nbformat_minor": 0
}