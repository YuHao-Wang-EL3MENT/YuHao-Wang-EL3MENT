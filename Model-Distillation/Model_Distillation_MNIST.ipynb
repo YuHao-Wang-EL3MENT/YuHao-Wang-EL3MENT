{
  "nbformat": 4,
  "nbformat_minor": 0,
  "metadata": {
    "colab": {
      "provenance": [],
      "collapsed_sections": [
        "34xsotaiswXX",
        "V2wc6D5GtwuE",
        "TcNtQK2GtyZq",
        "7jdAFtovsmDN",
        "OgMxFts5uyZy",
        "SP7FNUd-xoFH"
      ],
      "machine_shape": "hm"
    },
    "kernelspec": {
      "name": "python3",
      "display_name": "Python 3"
    },
    "language_info": {
      "name": "python"
    },
    "accelerator": "GPU",
    "gpuClass": "premium"
  },
  "cells": [
    {
      "cell_type": "markdown",
      "source": [
        "[![Open In Colab](https://colab.research.google.com/assets/colab-badge.svg)](https://colab.research.google.com/drive/1gQOdL-jJSgp6JM48hI69D5BW8L-aho5v?usp=share_link)"
      ],
      "metadata": {
        "id": "zlvIXtFhsSAq"
      }
    },
    {
      "cell_type": "code",
      "source": [
        "!pip install keras-flops\n",
        "import tensorflow.compat.v2 as tf\n",
        "import tensorflow_datasets as tfds\n",
        "from typing import Union\n",
        "import matplotlib.pyplot as plt\n",
        "from tensorflow.keras import layers\n",
        "from tensorflow.python.ops.math_ops import truediv\n",
        "from keras_flops import get_flops\n",
        "import warnings\n",
        "warnings.filterwarnings('ignore')\n",
        "\n",
        "tf.enable_v2_behavior()\n",
        "\n",
        "builder = tfds.builder('mnist')\n",
        "BATCH_SIZE = 256\n",
        "NUM_EPOCHS = 12\n",
        "NUM_CLASSES = 10  # 10 total classes."
      ],
      "metadata": {
        "id": "FOwRWaU8suRR"
      },
      "execution_count": null,
      "outputs": []
    },
    {
      "cell_type": "markdown",
      "source": [
        "#Data Loading"
      ],
      "metadata": {
        "id": "34xsotaiswXX"
      }
    },
    {
      "cell_type": "code",
      "source": [
        "# Load train and test splits.\n",
        "def preprocess(x):\n",
        "  image = tf.image.convert_image_dtype(x['image'], tf.float32)\n",
        "  subclass_labels = tf.one_hot(x['label'], builder.info.features['label'].num_classes)\n",
        "  return image, subclass_labels\n",
        "\n",
        "\n",
        "mnist_train = tfds.load('mnist', split='train', shuffle_files=False).cache()\n",
        "mnist_train = mnist_train.map(preprocess)\n",
        "mnist_train = mnist_train.shuffle(builder.info.splits['train'].num_examples)\n",
        "mnist_train = mnist_train.batch(BATCH_SIZE, drop_remainder=True)\n",
        "\n",
        "mnist_test = tfds.load('mnist', split='test').cache()\n",
        "mnist_test = mnist_test.map(preprocess).batch(BATCH_SIZE)"
      ],
      "metadata": {
        "id": "0lz-osrssx1R"
      },
      "execution_count": null,
      "outputs": []
    },
    {
      "cell_type": "markdown",
      "source": [
        "#Teacher"
      ],
      "metadata": {
        "id": "OWARk3QGs5Op"
      }
    },
    {
      "cell_type": "markdown",
      "source": [
        "##Model Setup"
      ],
      "metadata": {
        "id": "TuP3QVCjte_4"
      }
    },
    {
      "cell_type": "code",
      "source": [
        "def teacher_initial():\n",
        "# Build CNN teacher.\n",
        "  cnn_model = tf.keras.Sequential()\n",
        "  cnn_model.add(layers.Conv2D(32, 3, (1, 1), activation='relu', input_shape=(28, 28, 1)))\n",
        "  cnn_model.add(layers.MaxPooling2D((2, 2), strides=1))\n",
        "  cnn_model.add(layers.Conv2D(64, 3, (1, 1), activation='relu'))\n",
        "  cnn_model.add(layers.MaxPooling2D((2, 2), strides=2))\n",
        "  cnn_model.add(layers.Flatten())\n",
        "  cnn_model.add(layers.Dropout(0.5))\n",
        "  cnn_model.add(layers.Dense(128, activation='relu'))\n",
        "  cnn_model.add(layers.Dropout(0.5))\n",
        "  cnn_model.add(layers.Dense(10))\n",
        "  \n",
        "  return cnn_model"
      ],
      "metadata": {
        "id": "_sWbDjm2s-Cr"
      },
      "execution_count": 3,
      "outputs": []
    },
    {
      "cell_type": "code",
      "source": [
        "teacher_model = teacher_initial()\n",
        "teacher_model.summary()"
      ],
      "metadata": {
        "id": "t_DuuknrO9V5",
        "colab": {
          "base_uri": "https://localhost:8080/"
        },
        "outputId": "459fe8c9-6abc-489b-c75f-be954e16b20e"
      },
      "execution_count": 4,
      "outputs": [
        {
          "output_type": "stream",
          "name": "stdout",
          "text": [
            "Model: \"sequential\"\n",
            "_________________________________________________________________\n",
            " Layer (type)                Output Shape              Param #   \n",
            "=================================================================\n",
            " conv2d (Conv2D)             (None, 26, 26, 32)        320       \n",
            "                                                                 \n",
            " max_pooling2d (MaxPooling2D  (None, 25, 25, 32)       0         \n",
            " )                                                               \n",
            "                                                                 \n",
            " conv2d_1 (Conv2D)           (None, 23, 23, 64)        18496     \n",
            "                                                                 \n",
            " max_pooling2d_1 (MaxPooling  (None, 11, 11, 64)       0         \n",
            " 2D)                                                             \n",
            "                                                                 \n",
            " flatten (Flatten)           (None, 7744)              0         \n",
            "                                                                 \n",
            " dropout (Dropout)           (None, 7744)              0         \n",
            "                                                                 \n",
            " dense (Dense)               (None, 128)               991360    \n",
            "                                                                 \n",
            " dropout_1 (Dropout)         (None, 128)               0         \n",
            "                                                                 \n",
            " dense_1 (Dense)             (None, 10)                1290      \n",
            "                                                                 \n",
            "=================================================================\n",
            "Total params: 1,011,466\n",
            "Trainable params: 1,011,466\n",
            "Non-trainable params: 0\n",
            "_________________________________________________________________\n"
          ]
        }
      ]
    },
    {
      "cell_type": "markdown",
      "source": [
        "##Loss Function"
      ],
      "metadata": {
        "id": "V2wc6D5GtwuE"
      }
    },
    {
      "cell_type": "code",
      "source": [
        "def compute_teacher_loss(images, labels):\n",
        "  \"\"\"Compute subclass knowledge distillation teacher loss for given images\n",
        "     and labels.\n",
        "\n",
        "  Args:\n",
        "    images: Tensor representing a batch of images.\n",
        "    labels: Tensor representing a batch of labels.\n",
        "\n",
        "  Returns:\n",
        "    Scalar loss Tensor.\n",
        "  \"\"\"\n",
        "  subclass_logits = teacher_model(images, training=True)\n",
        "\n",
        "  cross_entropy_loss_value = tf.reduce_mean(tf.nn.softmax_cross_entropy_with_logits(labels, subclass_logits))\n",
        "\n",
        "  return cross_entropy_loss_value"
      ],
      "metadata": {
        "id": "NzqnFohqt4no"
      },
      "execution_count": 5,
      "outputs": []
    },
    {
      "cell_type": "markdown",
      "source": [
        "#Student"
      ],
      "metadata": {
        "id": "LdUH6UV1s-ZE"
      }
    },
    {
      "cell_type": "markdown",
      "source": [
        "##Model Setup"
      ],
      "metadata": {
        "id": "_PKdHvsQthhC"
      }
    },
    {
      "cell_type": "code",
      "source": [
        "def student_initial():\n",
        "# Build fully connected student.\n",
        "  fc_model = tf.keras.Sequential()\n",
        "  fc_model.add(tf.keras.Input(shape=(28, 28, 1)))\n",
        "  fc_model.add(layers.Flatten())\n",
        "  fc_model.add(layers.Dense(784, activation='relu'))\n",
        "  #fc_model.add(layers.Dense(784, activation='relu'))\n",
        "  fc_model.add(layers.Dense(10))\n",
        "\n",
        "  return fc_model"
      ],
      "metadata": {
        "id": "FV1nh8-fs_7Q"
      },
      "execution_count": 28,
      "outputs": []
    },
    {
      "cell_type": "code",
      "source": [
        "student_model = student_initial()\n",
        "student_model.summary()"
      ],
      "metadata": {
        "id": "8q0cNSzOyYvK",
        "colab": {
          "base_uri": "https://localhost:8080/"
        },
        "outputId": "f0aff70a-3b95-47d9-c9d8-f2781de4e29c"
      },
      "execution_count": 29,
      "outputs": [
        {
          "output_type": "stream",
          "name": "stdout",
          "text": [
            "Model: \"sequential_37\"\n",
            "_________________________________________________________________\n",
            " Layer (type)                Output Shape              Param #   \n",
            "=================================================================\n",
            " flatten_37 (Flatten)        (None, 784)               0         \n",
            "                                                                 \n",
            " dense_110 (Dense)           (None, 784)               615440    \n",
            "                                                                 \n",
            " dense_111 (Dense)           (None, 10)                7850      \n",
            "                                                                 \n",
            "=================================================================\n",
            "Total params: 623,290\n",
            "Trainable params: 623,290\n",
            "Non-trainable params: 0\n",
            "_________________________________________________________________\n"
          ]
        }
      ]
    },
    {
      "cell_type": "markdown",
      "source": [
        "##Loss Function"
      ],
      "metadata": {
        "id": "TcNtQK2GtyZq"
      }
    },
    {
      "cell_type": "code",
      "source": [
        "# Hyperparameters for distillation (need to be tuned).\n",
        "ALPHA = 0.5 # task balance between cross-entropy and distillation loss\n",
        "DISTILLATION_TEMPERATURE = 32. #temperature hyperparameter\n",
        "\n",
        "def distillation_loss(teacher_logits: tf.Tensor, student_logits: tf.Tensor,\n",
        "                      temperature: Union[float, tf.Tensor]):\n",
        "  \"\"\"Compute distillation loss.\n",
        "\n",
        "  This function computes cross entropy between softened logits and softened\n",
        "  targets. The resulting loss is scaled by the squared temperature so that\n",
        "  the gradient magnitude remains approximately constant as the temperature is\n",
        "  changed. For reference, see Hinton et al., 2014, \"Distilling the knowledge in\n",
        "  a neural network.\"\n",
        "\n",
        "  Args:\n",
        "    teacher_logits: A Tensor of logits provided by the teacher.\n",
        "    student_logits: A Tensor of logits provided by the student, of the same\n",
        "      shape as `teacher_logits`.\n",
        "    temperature: Temperature to use for distillation.\n",
        "\n",
        "  Returns:\n",
        "    A scalar Tensor containing the distillation loss.\n",
        "  \"\"\"\n",
        "  \n",
        "  soft_targets = tf.nn.softmax(teacher_logits / temperature)\n",
        "\n",
        "  return tf.reduce_mean(\n",
        "      tf.nn.softmax_cross_entropy_with_logits(soft_targets, student_logits / temperature)) * temperature ** 2\n",
        "\n",
        "def compute_student_loss(images, labels):\n",
        "  \"\"\"Compute subclass knowledge distillation student loss for given images\n",
        "     and labels.\n",
        "\n",
        "  Args:\n",
        "    images: Tensor representing a batch of images.\n",
        "    labels: Tensor representing a batch of labels.\n",
        "\n",
        "  Returns:\n",
        "    Scalar loss Tensor.\n",
        "  \"\"\"\n",
        "  student_subclass_logits = student_model(images, training=True)\n",
        "\n",
        "\n",
        "  teacher_subclass_logits = teacher_model(images, training=False)\n",
        "  distillation_loss_value = distillation_loss(teacher_subclass_logits, student_subclass_logits, DISTILLATION_TEMPERATURE)\n",
        "\n",
        "\n",
        "  hard_loss_value = tf.reduce_mean(tf.nn.softmax_cross_entropy_with_logits(labels, student_subclass_logits))\n",
        "\n",
        "\n",
        "  return (ALPHA * distillation_loss_value + (1- ALPHA) * hard_loss_value)"
      ],
      "metadata": {
        "id": "T84hrZBKuFcb"
      },
      "execution_count": 21,
      "outputs": []
    },
    {
      "cell_type": "markdown",
      "source": [
        "#Helper Function"
      ],
      "metadata": {
        "id": "7jdAFtovsmDN"
      }
    },
    {
      "cell_type": "code",
      "source": [
        "def compute_num_correct(model, images, labels):\n",
        "  \"\"\"Compute number of correctly classified images in a batch.\n",
        "\n",
        "  Args:\n",
        "    model: Instance of tf.keras.Model.\n",
        "    images: Tensor representing a batch of images.\n",
        "    labels: Tensor representing a batch of labels.\n",
        "\n",
        "  Returns:\n",
        "    Number of correctly classified images.\n",
        "  \"\"\"\n",
        "  class_logits = model(images, training=False)\n",
        "  return tf.reduce_sum(\n",
        "      tf.cast(tf.math.equal(tf.argmax(class_logits, -1), tf.argmax(labels, -1)),\n",
        "              tf.float32)), tf.argmax(class_logits, -1), tf.argmax(labels, -1)\n",
        "\n",
        "\n",
        "def train_and_evaluate(model, compute_loss_fn):\n",
        "  \"\"\"Perform training and evaluation for a given model.\n",
        "\n",
        "  Args:\n",
        "    model: Instance of tf.keras.Model.\n",
        "    compute_loss_fn: A function that computes the training loss given the\n",
        "      images, and labels.\n",
        "  \"\"\"\n",
        "\n",
        "  optimizer = tf.keras.optimizers.Adam(learning_rate=0.001)\n",
        "\n",
        "  for epoch in range(1, NUM_EPOCHS + 1):\n",
        "    # Run training.\n",
        "    print('Epoch {}: '.format(epoch), end='')\n",
        "    for images, labels in mnist_train:\n",
        "      with tf.GradientTape() as tape:\n",
        "        loss_value = compute_loss_fn(images, labels)\n",
        "\n",
        "      grads = tape.gradient(loss_value, model.trainable_variables)\n",
        "      optimizer.apply_gradients(zip(grads, model.trainable_variables))\n",
        "\n",
        "    # Run evaluation.\n",
        "    num_correct = 0\n",
        "    num_total = builder.info.splits['test'].num_examples\n",
        "    for images, labels in mnist_test:\n",
        "      a = compute_num_correct(model, images, labels)\n",
        "      num_correct += a[0]\n",
        "    print(\"Class_accuracy: \" + '{:.2f}%'.format(\n",
        "        num_correct / num_total * 100))\n",
        "\n",
        "def student_loss_changeT(images, labels, T, alpha=0.5):\n",
        "  student_subclass_logits = student_model(images, training=True)\n",
        "  teacher_subclass_logits = teacher_model(images, training=False)\n",
        "  distillation_loss_value = distillation_loss(teacher_subclass_logits, student_subclass_logits, T)\n",
        "  cross_entropy_loss_value = tf.reduce_mean(tf.nn.softmax_cross_entropy_with_logits(labels, student_subclass_logits))\n",
        "\n",
        "  return (alpha * distillation_loss_value + (1- alpha) * cross_entropy_loss_value)\n",
        "\n",
        "def student_test_acc(model, compute_loss_fn, T, alpha=0.5):\n",
        "  optimizer = tf.keras.optimizers.Adam(learning_rate=0.001)\n",
        "  test_accuracy = []\n",
        "\n",
        "  for epoch in range(1, NUM_EPOCHS + 1):\n",
        "    # Run training.\n",
        "    #print('Epoch {}: '.format(epoch), end='')\n",
        "    for images, labels in mnist_train:\n",
        "      with tf.GradientTape() as tape:\n",
        "         # your code start from here for step 4\n",
        "        loss_value = compute_loss_fn(images, labels, T, alpha=0.5)\n",
        "\n",
        "      grads = tape.gradient(loss_value, model.trainable_variables)\n",
        "      optimizer.apply_gradients(zip(grads, model.trainable_variables))\n",
        "\n",
        "    # Run evaluation.\n",
        "    num_correct = 0\n",
        "    num_total = builder.info.splits['test'].num_examples\n",
        "    for images, labels in mnist_test:\n",
        "      # your code start from here for step 4\n",
        "      a = compute_num_correct(model, images, labels)\n",
        "      num_correct += a[0]\n",
        "    test_accuracy.append(num_correct / num_total * 100)\n",
        "  return test_accuracy\n",
        "\n",
        "def student_loss_changealpha(images, labels,  alpha):\n",
        "  student_subclass_logits = student_model(images, training=True)\n",
        "  teacher_subclass_logits = teacher_model(images, training=False)\n",
        "  distillation_loss_value = distillation_loss(teacher_subclass_logits, student_subclass_logits, 4)\n",
        "  cross_entropy_loss_value = tf.reduce_mean(tf.nn.softmax_cross_entropy_with_logits(labels, student_subclass_logits))\n",
        "\n",
        "  return (alpha * distillation_loss_value + (1- alpha) * cross_entropy_loss_value)\n",
        "\n",
        "def student_test_acc_change(model, compute_loss_fn, T, alpha=0.5):\n",
        "  optimizer = tf.keras.optimizers.Adam(learning_rate=0.001)\n",
        "  test_accuracy = []\n",
        "\n",
        "  for epoch in range(1, NUM_EPOCHS + 1):\n",
        "    # Run training.\n",
        "    #print('Epoch {}: '.format(epoch), end='')\n",
        "    for images, labels in mnist_train:\n",
        "      with tf.GradientTape() as tape:\n",
        "         # your code start from here for step 4\n",
        "        loss_value = compute_loss_fn(images, labels, alpha)\n",
        "\n",
        "      grads = tape.gradient(loss_value, model.trainable_variables)\n",
        "      optimizer.apply_gradients(zip(grads, model.trainable_variables))\n",
        "\n",
        "    # Run evaluation.\n",
        "    num_correct = 0\n",
        "    num_total = builder.info.splits['test'].num_examples\n",
        "    for images, labels in mnist_test:\n",
        "      # your code start from here for step 4\n",
        "      a = compute_num_correct(model, images, labels)\n",
        "      num_correct += a[0]\n",
        "    test_accuracy.append(num_correct / num_total * 100)\n",
        "  return test_accuracy"
      ],
      "metadata": {
        "id": "EtoLbp8uQ4Vl"
      },
      "execution_count": 15,
      "outputs": []
    },
    {
      "cell_type": "markdown",
      "source": [
        "#Training Process"
      ],
      "metadata": {
        "id": "Kt-lgtEouvdE"
      }
    },
    {
      "cell_type": "markdown",
      "source": [
        "##Train Teacher"
      ],
      "metadata": {
        "id": "OgMxFts5uyZy"
      }
    },
    {
      "cell_type": "code",
      "source": [
        "train_and_evaluate(teacher_model, compute_teacher_loss)"
      ],
      "metadata": {
        "colab": {
          "base_uri": "https://localhost:8080/"
        },
        "id": "o6aF7YSaTkn5",
        "outputId": "825796f9-f2df-4e99-ce10-a30f6ed5c11e"
      },
      "execution_count": 10,
      "outputs": [
        {
          "output_type": "stream",
          "name": "stdout",
          "text": [
            "Epoch 1: Class_accuracy: 98.04%\n",
            "Epoch 2: Class_accuracy: 98.50%\n",
            "Epoch 3: Class_accuracy: 98.88%\n",
            "Epoch 4: Class_accuracy: 98.91%\n",
            "Epoch 5: Class_accuracy: 99.00%\n",
            "Epoch 6: Class_accuracy: 99.02%\n",
            "Epoch 7: Class_accuracy: 99.11%\n",
            "Epoch 8: Class_accuracy: 99.15%\n",
            "Epoch 9: Class_accuracy: 99.16%\n",
            "Epoch 10: Class_accuracy: 99.15%\n",
            "Epoch 11: Class_accuracy: 99.14%\n",
            "Epoch 12: Class_accuracy: 99.19%\n"
          ]
        }
      ]
    },
    {
      "cell_type": "markdown",
      "source": [
        "##Train Student from Scratch"
      ],
      "metadata": {
        "id": "QohXagweu1e0"
      }
    },
    {
      "cell_type": "code",
      "source": [
        "student_model = student_initial()\n",
        "\n",
        "def compute_plain_cross_entropy_loss(images, labels):\n",
        "  \"\"\"Compute plain loss for given images and labels.\n",
        "\n",
        "  For fair comparison and convenience, this function also performs a\n",
        "  LogSumExp over subclasses, but does not perform subclass distillation.\n",
        "\n",
        "  Args:\n",
        "    images: Tensor representing a batch of images.\n",
        "    labels: Tensor representing a batch of labels.\n",
        "\n",
        "  Returns:\n",
        "    Scalar loss Tensor.\n",
        "  \"\"\"\n",
        "\n",
        "  student_subclass_logits = student_model(images, training=True)\n",
        "  cross_entropy_loss = tf.nn.softmax_cross_entropy_with_logits(labels, student_subclass_logits) \n",
        "  \n",
        "  return cross_entropy_loss\n",
        "\n",
        "\n",
        "train_and_evaluate(student_model, compute_plain_cross_entropy_loss)"
      ],
      "metadata": {
        "id": "HjospsxIRbQ6",
        "colab": {
          "base_uri": "https://localhost:8080/"
        },
        "outputId": "2109175b-83bb-48a1-a7fe-dfff016f89ca"
      },
      "execution_count": 11,
      "outputs": [
        {
          "output_type": "stream",
          "name": "stdout",
          "text": [
            "Epoch 1: Class_accuracy: 96.82%\n",
            "Epoch 2: Class_accuracy: 97.23%\n",
            "Epoch 3: Class_accuracy: 97.86%\n",
            "Epoch 4: Class_accuracy: 98.11%\n",
            "Epoch 5: Class_accuracy: 97.96%\n",
            "Epoch 6: Class_accuracy: 98.20%\n",
            "Epoch 7: Class_accuracy: 97.99%\n",
            "Epoch 8: Class_accuracy: 98.05%\n",
            "Epoch 9: Class_accuracy: 97.93%\n",
            "Epoch 10: Class_accuracy: 98.18%\n",
            "Epoch 11: Class_accuracy: 97.63%\n",
            "Epoch 12: Class_accuracy: 98.21%\n"
          ]
        }
      ]
    },
    {
      "cell_type": "markdown",
      "source": [
        "##Distill knowledge from Teacher to Student"
      ],
      "metadata": {
        "id": "juZvf3mUu294"
      }
    },
    {
      "cell_type": "code",
      "source": [
        "student_model = student_initial()\n",
        "train_and_evaluate(student_model, compute_student_loss)"
      ],
      "metadata": {
        "colab": {
          "base_uri": "https://localhost:8080/"
        },
        "id": "nE9V7rXfWhiR",
        "outputId": "27796c78-a9a6-4b41-cad1-08bbde15148f"
      },
      "execution_count": 13,
      "outputs": [
        {
          "output_type": "stream",
          "name": "stdout",
          "text": [
            "Epoch 1: Class_accuracy: 96.53%\n",
            "Epoch 2: Class_accuracy: 97.81%\n",
            "Epoch 3: Class_accuracy: 98.10%\n",
            "Epoch 4: Class_accuracy: 98.42%\n",
            "Epoch 5: Class_accuracy: 98.51%\n",
            "Epoch 6: Class_accuracy: 98.65%\n",
            "Epoch 7: Class_accuracy: 98.64%\n",
            "Epoch 8: Class_accuracy: 98.61%\n",
            "Epoch 9: Class_accuracy: 98.65%\n",
            "Epoch 10: Class_accuracy: 98.64%\n",
            "Epoch 11: Class_accuracy: 98.70%\n",
            "Epoch 12: Class_accuracy: 98.65%\n"
          ]
        }
      ]
    },
    {
      "cell_type": "markdown",
      "source": [
        "#Hyperparameters Tuning"
      ],
      "metadata": {
        "id": "SP7FNUd-xoFH"
      }
    },
    {
      "cell_type": "code",
      "source": [
        "T = [1, 2, 4, 8, 16, 32, 64]\n",
        "test_accuracy_list = []\n",
        "for temp in T:\n",
        "  student_model = student_initial()\n",
        "  test_accuracy = student_test_acc(student_model, student_loss_changeT, T = temp, alpha=0.5)\n",
        "  print(temp,'Temperature done')\n",
        "  test_accuracy_list.append(test_accuracy[-1])\n",
        "plt.scatter(T, test_accuracy_list, label='test accuracy')\n",
        "plt.xlabel(\"Temperature\")\n",
        "plt.ylabel(\"test accuracy\")\n",
        "plt.title(\"Test Accuracy vs. Temperature Hyperparameters\")\n",
        "plt.legend()\n",
        "plt.show()\n",
        "test_accuracy_list"
      ],
      "metadata": {
        "colab": {
          "base_uri": "https://localhost:8080/",
          "height": 538
        },
        "id": "OnC9Ky2AyHfE",
        "outputId": "174fd91d-1078-44b6-bb67-363e88a70bdd"
      },
      "execution_count": 18,
      "outputs": [
        {
          "output_type": "stream",
          "name": "stdout",
          "text": [
            "1 Temperature done\n",
            "2 Temperature done\n",
            "4 Temperature done\n",
            "8 Temperature done\n",
            "16 Temperature done\n",
            "32 Temperature done\n",
            "64 Temperature done\n"
          ]
        },
        {
          "output_type": "display_data",
          "data": {
            "text/plain": [
              "<Figure size 432x288 with 1 Axes>"
            ],
            "image/png": "[encoded data removed]"
          },
          "metadata": {
            "needs_background": "light"
          }
        },
        {
          "output_type": "execute_result",
          "data": {
            "text/plain": [
              "[<tf.Tensor: shape=(), dtype=float32, numpy=98.409996>,\n",
              " <tf.Tensor: shape=(), dtype=float32, numpy=98.38>,\n",
              " <tf.Tensor: shape=(), dtype=float32, numpy=98.6>,\n",
              " <tf.Tensor: shape=(), dtype=float32, numpy=98.77>,\n",
              " <tf.Tensor: shape=(), dtype=float32, numpy=98.72>,\n",
              " <tf.Tensor: shape=(), dtype=float32, numpy=98.82>,\n",
              " <tf.Tensor: shape=(), dtype=float32, numpy=98.77>]"
            ]
          },
          "metadata": {},
          "execution_count": 18
        }
      ]
    },
    {
      "cell_type": "code",
      "source": [
        "alpha = [0.1,0.2,0.3,0.4,0.5,0.6,0.7,0.8,0.9]\n",
        "test_accuracy_list = []\n",
        "for a in alpha:\n",
        "  student_model = student_initial()\n",
        "  test_accuracy = student_test_acc_change(student_model, student_loss_changealpha, T = 32, alpha=a)\n",
        "  print(a,'Alpha done')\n",
        "  test_accuracy_list.append(test_accuracy[-1])\n",
        "plt.scatter(alpha, test_accuracy_list, label='test accuracy')\n",
        "plt.xlabel(\"Alpha\")\n",
        "plt.ylabel(\"test accuracy\")\n",
        "plt.title(\"Test Accuracy vs. Task Balance Hyperparameters\")\n",
        "plt.legend()\n",
        "plt.show()\n",
        "test_accuracy_list"
      ],
      "metadata": {
        "colab": {
          "base_uri": "https://localhost:8080/",
          "height": 607
        },
        "id": "Sp8Xrqvd0Uun",
        "outputId": "91c65776-cf77-4b28-8920-bc96304ad3d8"
      },
      "execution_count": 20,
      "outputs": [
        {
          "output_type": "stream",
          "name": "stdout",
          "text": [
            "0.1 Alpha done\n",
            "0.2 Alpha done\n",
            "0.3 Alpha done\n",
            "0.4 Alpha done\n",
            "0.5 Alpha done\n",
            "0.6 Alpha done\n",
            "0.7 Alpha done\n",
            "0.8 Alpha done\n",
            "0.9 Alpha done\n"
          ]
        },
        {
          "output_type": "display_data",
          "data": {
            "text/plain": [
              "<Figure size 432x288 with 1 Axes>"
            ],
            "image/png": "[encoded data removed]"
          },
          "metadata": {
            "needs_background": "light"
          }
        },
        {
          "output_type": "execute_result",
          "data": {
            "text/plain": [
              "[<tf.Tensor: shape=(), dtype=float32, numpy=98.64>,\n",
              " <tf.Tensor: shape=(), dtype=float32, numpy=98.58>,\n",
              " <tf.Tensor: shape=(), dtype=float32, numpy=98.64>,\n",
              " <tf.Tensor: shape=(), dtype=float32, numpy=98.74>,\n",
              " <tf.Tensor: shape=(), dtype=float32, numpy=98.81>,\n",
              " <tf.Tensor: shape=(), dtype=float32, numpy=98.75>,\n",
              " <tf.Tensor: shape=(), dtype=float32, numpy=98.54>,\n",
              " <tf.Tensor: shape=(), dtype=float32, numpy=98.77>,\n",
              " <tf.Tensor: shape=(), dtype=float32, numpy=98.78>]"
            ]
          },
          "metadata": {},
          "execution_count": 20
        }
      ]
    },
    {
      "cell_type": "code",
      "source": [
        "student_model = student_initial()\n",
        "train_and_evaluate(student_model, compute_student_loss)"
      ],
      "metadata": {
        "colab": {
          "base_uri": "https://localhost:8080/"
        },
        "id": "qnYOWUr87WzD",
        "outputId": "85f04d7a-1c4c-43c8-d521-4779bd93cdab"
      },
      "execution_count": 22,
      "outputs": [
        {
          "output_type": "stream",
          "name": "stdout",
          "text": [
            "Epoch 1: Class_accuracy: 96.58%\n",
            "Epoch 2: Class_accuracy: 97.75%\n",
            "Epoch 3: Class_accuracy: 98.00%\n",
            "Epoch 4: Class_accuracy: 98.40%\n",
            "Epoch 5: Class_accuracy: 98.49%\n",
            "Epoch 6: Class_accuracy: 98.49%\n",
            "Epoch 7: Class_accuracy: 98.62%\n",
            "Epoch 8: Class_accuracy: 98.74%\n",
            "Epoch 9: Class_accuracy: 98.67%\n",
            "Epoch 10: Class_accuracy: 98.68%\n",
            "Epoch 11: Class_accuracy: 98.74%\n",
            "Epoch 12: Class_accuracy: 98.75%\n"
          ]
        }
      ]
    },
    {
      "cell_type": "markdown",
      "source": [
        "#Results"
      ],
      "metadata": {
        "id": "YldZxv_P72OV"
      }
    },
    {
      "cell_type": "code",
      "source": [
        "cnnflops = get_flops(teacher_model)\n",
        "fcflops = get_flops(student_model)\n",
        "print('flops for teacher teacher model is',cnnflops)\n",
        "print('flops for student student model is',fcflops)"
      ],
      "metadata": {
        "colab": {
          "base_uri": "https://localhost:8080/"
        },
        "id": "po1i0LYe93ye",
        "outputId": "52a9e9f3-f556-47a5-cc1d-3431fa6115a6"
      },
      "execution_count": 27,
      "outputs": [
        {
          "output_type": "stream",
          "name": "stdout",
          "text": [
            "flops for teacher teacher model is 22042058\n",
            "flops for student student model is 2475882\n"
          ]
        }
      ]
    },
    {
      "cell_type": "markdown",
      "source": [
        "|                                | Test Accuracy | Number of Param. | FLOPs    |\n",
        "|--------------------------------|---------------|------------------|----------|\n",
        "| Teacher Model                  | 99.19%        | 1,011,466        | 2.2*10^7 |\n",
        "| Student Trained from Scratch   | 98.21%        | 623,290          | 2.5*10^6 |\n",
        "| Student distilled from Teacher | 98.75%        | 623,290          | 2.5*10^6 |"
      ],
      "metadata": {
        "id": "7GdNQrd974CU"
      }
    }
  ]
}